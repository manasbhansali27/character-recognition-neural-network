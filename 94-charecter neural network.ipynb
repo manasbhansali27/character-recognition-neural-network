{
 "cells": [
  {
   "cell_type": "code",
   "execution_count": 1,
   "id": "73ad6738",
   "metadata": {},
   "outputs": [],
   "source": [
    "import numpy as np\n",
    "import pandas as pd\n",
    "from matplotlib import pyplot as plt"
   ]
  },
  {
   "cell_type": "code",
   "execution_count": 2,
   "id": "55ed95a4",
   "metadata": {},
   "outputs": [],
   "source": [
    "df=pd.read_csv('tmnist.csv')"
   ]
  },
  {
   "cell_type": "code",
   "execution_count": 3,
   "id": "3c110d4f",
   "metadata": {},
   "outputs": [
    {
     "data": {
      "text/html": [
       "<div>\n",
       "<style scoped>\n",
       "    .dataframe tbody tr th:only-of-type {\n",
       "        vertical-align: middle;\n",
       "    }\n",
       "\n",
       "    .dataframe tbody tr th {\n",
       "        vertical-align: top;\n",
       "    }\n",
       "\n",
       "    .dataframe thead th {\n",
       "        text-align: right;\n",
       "    }\n",
       "</style>\n",
       "<table border=\"1\" class=\"dataframe\">\n",
       "  <thead>\n",
       "    <tr style=\"text-align: right;\">\n",
       "      <th></th>\n",
       "      <th>names</th>\n",
       "      <th>labels</th>\n",
       "      <th>1</th>\n",
       "      <th>2</th>\n",
       "      <th>3</th>\n",
       "      <th>4</th>\n",
       "      <th>5</th>\n",
       "      <th>6</th>\n",
       "      <th>7</th>\n",
       "      <th>8</th>\n",
       "      <th>...</th>\n",
       "      <th>775</th>\n",
       "      <th>776</th>\n",
       "      <th>777</th>\n",
       "      <th>778</th>\n",
       "      <th>779</th>\n",
       "      <th>780</th>\n",
       "      <th>781</th>\n",
       "      <th>782</th>\n",
       "      <th>783</th>\n",
       "      <th>784</th>\n",
       "    </tr>\n",
       "  </thead>\n",
       "  <tbody>\n",
       "    <tr>\n",
       "      <th>0</th>\n",
       "      <td>Salsa-Regular</td>\n",
       "      <td>6</td>\n",
       "      <td>0.0</td>\n",
       "      <td>0.0</td>\n",
       "      <td>0.0</td>\n",
       "      <td>0.0</td>\n",
       "      <td>0.0</td>\n",
       "      <td>0.0</td>\n",
       "      <td>0.0</td>\n",
       "      <td>0.0</td>\n",
       "      <td>...</td>\n",
       "      <td>0.0</td>\n",
       "      <td>0.0</td>\n",
       "      <td>0.0</td>\n",
       "      <td>0.0</td>\n",
       "      <td>0.0</td>\n",
       "      <td>0.0</td>\n",
       "      <td>0.0</td>\n",
       "      <td>0.0</td>\n",
       "      <td>0.0</td>\n",
       "      <td>0.0</td>\n",
       "    </tr>\n",
       "    <tr>\n",
       "      <th>1</th>\n",
       "      <td>MouseMemoirs-Regular</td>\n",
       "      <td>D</td>\n",
       "      <td>0.0</td>\n",
       "      <td>0.0</td>\n",
       "      <td>0.0</td>\n",
       "      <td>0.0</td>\n",
       "      <td>0.0</td>\n",
       "      <td>0.0</td>\n",
       "      <td>0.0</td>\n",
       "      <td>0.0</td>\n",
       "      <td>...</td>\n",
       "      <td>0.0</td>\n",
       "      <td>0.0</td>\n",
       "      <td>0.0</td>\n",
       "      <td>0.0</td>\n",
       "      <td>0.0</td>\n",
       "      <td>0.0</td>\n",
       "      <td>0.0</td>\n",
       "      <td>0.0</td>\n",
       "      <td>0.0</td>\n",
       "      <td>0.0</td>\n",
       "    </tr>\n",
       "    <tr>\n",
       "      <th>2</th>\n",
       "      <td>Creepster-Regular</td>\n",
       "      <td>f</td>\n",
       "      <td>0.0</td>\n",
       "      <td>0.0</td>\n",
       "      <td>0.0</td>\n",
       "      <td>0.0</td>\n",
       "      <td>0.0</td>\n",
       "      <td>0.0</td>\n",
       "      <td>0.0</td>\n",
       "      <td>0.0</td>\n",
       "      <td>...</td>\n",
       "      <td>0.0</td>\n",
       "      <td>0.0</td>\n",
       "      <td>0.0</td>\n",
       "      <td>0.0</td>\n",
       "      <td>0.0</td>\n",
       "      <td>0.0</td>\n",
       "      <td>0.0</td>\n",
       "      <td>0.0</td>\n",
       "      <td>0.0</td>\n",
       "      <td>0.0</td>\n",
       "    </tr>\n",
       "    <tr>\n",
       "      <th>3</th>\n",
       "      <td>SeoulNamsan-Light</td>\n",
       "      <td>/</td>\n",
       "      <td>0.0</td>\n",
       "      <td>0.0</td>\n",
       "      <td>0.0</td>\n",
       "      <td>0.0</td>\n",
       "      <td>0.0</td>\n",
       "      <td>0.0</td>\n",
       "      <td>0.0</td>\n",
       "      <td>0.0</td>\n",
       "      <td>...</td>\n",
       "      <td>0.0</td>\n",
       "      <td>0.0</td>\n",
       "      <td>0.0</td>\n",
       "      <td>0.0</td>\n",
       "      <td>0.0</td>\n",
       "      <td>0.0</td>\n",
       "      <td>0.0</td>\n",
       "      <td>0.0</td>\n",
       "      <td>0.0</td>\n",
       "      <td>0.0</td>\n",
       "    </tr>\n",
       "    <tr>\n",
       "      <th>4</th>\n",
       "      <td>HachiMaruPop-Regular</td>\n",
       "      <td>F</td>\n",
       "      <td>0.0</td>\n",
       "      <td>0.0</td>\n",
       "      <td>0.0</td>\n",
       "      <td>0.0</td>\n",
       "      <td>0.0</td>\n",
       "      <td>0.0</td>\n",
       "      <td>0.0</td>\n",
       "      <td>0.0</td>\n",
       "      <td>...</td>\n",
       "      <td>0.0</td>\n",
       "      <td>0.0</td>\n",
       "      <td>0.0</td>\n",
       "      <td>0.0</td>\n",
       "      <td>0.0</td>\n",
       "      <td>0.0</td>\n",
       "      <td>0.0</td>\n",
       "      <td>0.0</td>\n",
       "      <td>0.0</td>\n",
       "      <td>0.0</td>\n",
       "    </tr>\n",
       "  </tbody>\n",
       "</table>\n",
       "<p>5 rows × 786 columns</p>\n",
       "</div>"
      ],
      "text/plain": [
       "                  names labels    1    2    3    4    5    6    7    8  ...  \\\n",
       "0         Salsa-Regular      6  0.0  0.0  0.0  0.0  0.0  0.0  0.0  0.0  ...   \n",
       "1  MouseMemoirs-Regular      D  0.0  0.0  0.0  0.0  0.0  0.0  0.0  0.0  ...   \n",
       "2     Creepster-Regular      f  0.0  0.0  0.0  0.0  0.0  0.0  0.0  0.0  ...   \n",
       "3     SeoulNamsan-Light      /  0.0  0.0  0.0  0.0  0.0  0.0  0.0  0.0  ...   \n",
       "4  HachiMaruPop-Regular      F  0.0  0.0  0.0  0.0  0.0  0.0  0.0  0.0  ...   \n",
       "\n",
       "   775  776  777  778  779  780  781  782  783  784  \n",
       "0  0.0  0.0  0.0  0.0  0.0  0.0  0.0  0.0  0.0  0.0  \n",
       "1  0.0  0.0  0.0  0.0  0.0  0.0  0.0  0.0  0.0  0.0  \n",
       "2  0.0  0.0  0.0  0.0  0.0  0.0  0.0  0.0  0.0  0.0  \n",
       "3  0.0  0.0  0.0  0.0  0.0  0.0  0.0  0.0  0.0  0.0  \n",
       "4  0.0  0.0  0.0  0.0  0.0  0.0  0.0  0.0  0.0  0.0  \n",
       "\n",
       "[5 rows x 786 columns]"
      ]
     },
     "execution_count": 3,
     "metadata": {},
     "output_type": "execute_result"
    }
   ],
   "source": [
    "df.head()"
   ]
  },
  {
   "cell_type": "code",
   "execution_count": 4,
   "id": "cca6e8bd",
   "metadata": {},
   "outputs": [],
   "source": [
    "# Step 2: Map all unique character labels to numeric indices\n",
    "classes = sorted(df['labels'].unique())  # ['!', '\"', ..., 'z']\n",
    "char_to_index = {char: i for i, char in enumerate(classes)}\n",
    "index_to_char = {i: char for char, i in char_to_index.items()}\n",
    "\n",
    "# Step 3: Convert labels to numbers\n",
    "df['label_index'] = df['labels'].map(char_to_index)\n",
    "\n",
    "# Step 4: Extract features and labels\n",
    "labels = df['label_index'].values.astype(int)\n",
    "pixels = df.iloc[:, 2:786].values.astype(np.float32)  # skip 'names' and 'labels'\n",
    "\n",
    "# Step 5: Stack, shuffle, split\n",
    "data = np.column_stack((labels, pixels))\n",
    "np.random.shuffle(data)\n",
    "\n",
    "# Step 6: Split and normalize\n",
    "m, n = data.shape\n",
    "data_dev = data[:1000].T\n",
    "Y_dev = data_dev[0].astype(int)\n",
    "X_dev = data_dev[1:] / 255.0\n",
    "\n",
    "data_train = data[1000:].T\n",
    "Y_train = data_train[0].astype(int)\n",
    "X_train = data_train[1:] / 255.0\n",
    "\n",
    "_, m_train = X_train.shape\n",
    "\n"
   ]
  },
  {
   "cell_type": "code",
   "execution_count": 5,
   "id": "6f61027b",
   "metadata": {},
   "outputs": [
    {
     "data": {
      "text/plain": [
       "(784,)"
      ]
     },
     "execution_count": 5,
     "metadata": {},
     "output_type": "execute_result"
    }
   ],
   "source": [
    "X_train[:,0].shape"
   ]
  },
  {
   "cell_type": "code",
   "execution_count": 6,
   "id": "654fd320",
   "metadata": {},
   "outputs": [
    {
     "data": {
      "text/plain": [
       "array([80, 57, 71, ..., 62, 89, 53])"
      ]
     },
     "execution_count": 6,
     "metadata": {},
     "output_type": "execute_result"
    }
   ],
   "source": [
    "Y_train"
   ]
  },
  {
   "cell_type": "code",
   "execution_count": 7,
   "id": "3bb1c404",
   "metadata": {},
   "outputs": [],
   "source": [
    "def init_params():\n",
    "    W1 = np.random.randn(256, 784) * np.sqrt(2. / 784)\n",
    "    b1 = np.zeros((256, 1))\n",
    "    W2 = np.random.randn(512, 256) * np.sqrt(2. / 256)\n",
    "    b2 = np.zeros((512, 1))\n",
    "    W3 = np.random.randn(94, 512) * np.sqrt(2. / 512)\n",
    "    b3 = np.zeros((94, 1))\n",
    "    return W1, b1, W2, b2, W3, b3\n",
    "\n",
    "def ReLU(Z):\n",
    "    return np.maximum(Z, 0)\n",
    "\n",
    "def softmax(Z):\n",
    "    expZ = np.exp(Z - np.max(Z, axis=0, keepdims=True))  # Stability fix\n",
    "    return expZ / np.sum(expZ, axis=0, keepdims=True)\n",
    "\n",
    "def forward_prop(W1, b1, W2, b2, W3, b3, X):\n",
    "    Z1 = W1.dot(X) + b1\n",
    "    A1 = ReLU(Z1)\n",
    "    Z2 = W2.dot(A1) + b2\n",
    "    A2 = ReLU(Z2)\n",
    "    Z3 = W3.dot(A2) + b3\n",
    "    A3 = softmax(Z3)\n",
    "    return Z1, A1, Z2, A2, Z3, A3\n",
    "\n",
    "\n",
    "def ReLU_derive(Z):\n",
    "    return Z > 0\n",
    "\n",
    "\n",
    "def one_hot(Y):\n",
    "    one_hot_Y = np.zeros((94, Y.size))  # 94 classes\n",
    "    one_hot_Y[Y, np.arange(Y.size)] = 1\n",
    "    return one_hot_Y\n",
    "\n",
    "def backward_prop(Z1, A1, Z2, A2, Z3, A3, W1, W2, W3, X, Y):\n",
    "    m = X.shape[1]\n",
    "    one_hot_Y = one_hot(Y)\n",
    "\n",
    "    dZ3 = A3 - one_hot_Y\n",
    "    dW3 = (1 / m) * dZ3.dot(A2.T)\n",
    "    db3 = (1 / m) * np.sum(dZ3, axis=1, keepdims=True)\n",
    "\n",
    "    dZ2 = W3.T.dot(dZ3) * ReLU_derive(Z2)\n",
    "    dW2 = (1 / m) * dZ2.dot(A1.T)\n",
    "    db2 = (1 / m) * np.sum(dZ2, axis=1, keepdims=True)\n",
    "\n",
    "    dZ1 = W2.T.dot(dZ2) * ReLU_derive(Z1)\n",
    "    dW1 = (1 / m) * dZ1.dot(X.T)\n",
    "    db1 = (1 / m) * np.sum(dZ1, axis=1, keepdims=True)\n",
    "\n",
    "    return dW1, db1, dW2, db2, dW3, db3\n",
    "\n",
    "def update_params(W1, b1, W2, b2, W3, b3, dW1, db1, dW2, db2, dW3, db3, alpha):\n",
    "    W1 -= alpha * dW1\n",
    "    b1 -= alpha * db1\n",
    "    W2 -= alpha * dW2\n",
    "    b2 -= alpha * db2\n",
    "    W3 -= alpha * dW3\n",
    "    b3 -= alpha * db3\n",
    "    return W1, b1, W2, b2, W3, b3\n"
   ]
  },
  {
   "cell_type": "code",
   "execution_count": 8,
   "id": "58f49a59",
   "metadata": {},
   "outputs": [],
   "source": [
    "def get_predictions(A2):\n",
    "    return np.argmax(A2, axis=0)  # Each column = one sample\n",
    "\n",
    "def get_accuracy(predictions, Y):\n",
    "    accuracy = np.sum(predictions == Y) / Y.size\n",
    "    return accuracy\n",
    "\n",
    "def gradient_descent(X, Y, alpha, iterations):\n",
    "    W1, b1, W2, b2, W3, b3 = init_params()\n",
    "    for i in range(iterations):\n",
    "        Z1, A1, Z2, A2, Z3, A3 = forward_prop(W1, b1, W2, b2, W3, b3, X)\n",
    "        dW1, db1, dW2, db2, dW3, db3 = backward_prop(Z1, A1, Z2, A2, Z3, A3, W1, W2, W3, X, Y)\n",
    "        W1, b1, W2, b2, W3, b3 = update_params(W1, b1, W2, b2, W3, b3,\n",
    "                                               dW1, db1, dW2, db2, dW3, db3, alpha)\n",
    "\n",
    "        if i % 10 == 0 or i == iterations - 1:\n",
    "            predictions = get_predictions(A3)\n",
    "            acc = get_accuracy(predictions, Y)\n",
    "            print(f\"Iteration {i} - Accuracy: {acc * 100:.2f}%\")\n",
    "\n",
    "    return W1, b1, W2, b2, W3, b3\n"
   ]
  },
  {
   "cell_type": "code",
   "execution_count": null,
   "id": "bcafbb2e",
   "metadata": {
    "scrolled": true
   },
   "outputs": [
    {
     "name": "stdout",
     "output_type": "stream",
     "text": [
      "Iteration 0 - Accuracy: 1.79%\n",
      "Iteration 10 - Accuracy: 6.65%\n",
      "Iteration 20 - Accuracy: 17.44%\n",
      "Iteration 30 - Accuracy: 30.81%\n",
      "Iteration 40 - Accuracy: 42.81%\n",
      "Iteration 50 - Accuracy: 51.80%\n",
      "Iteration 60 - Accuracy: 58.56%\n",
      "Iteration 70 - Accuracy: 63.40%\n",
      "Iteration 80 - Accuracy: 66.88%\n",
      "Iteration 90 - Accuracy: 69.28%\n",
      "Iteration 100 - Accuracy: 71.07%\n",
      "Iteration 110 - Accuracy: 72.30%\n",
      "Iteration 120 - Accuracy: 73.18%\n",
      "Iteration 130 - Accuracy: 73.43%\n",
      "Iteration 140 - Accuracy: 74.00%\n",
      "Iteration 150 - Accuracy: 74.47%\n",
      "Iteration 160 - Accuracy: 74.82%\n",
      "Iteration 170 - Accuracy: 75.04%\n",
      "Iteration 180 - Accuracy: 75.32%\n",
      "Iteration 190 - Accuracy: 75.67%\n",
      "Iteration 200 - Accuracy: 76.02%\n",
      "Iteration 210 - Accuracy: 76.35%\n",
      "Iteration 220 - Accuracy: 76.65%\n",
      "Iteration 230 - Accuracy: 76.86%\n",
      "Iteration 240 - Accuracy: 77.03%\n",
      "Iteration 250 - Accuracy: 77.31%\n",
      "Iteration 260 - Accuracy: 77.60%\n",
      "Iteration 270 - Accuracy: 77.89%\n",
      "Iteration 280 - Accuracy: 78.15%\n",
      "Iteration 290 - Accuracy: 78.42%\n",
      "Iteration 300 - Accuracy: 78.61%\n",
      "Iteration 310 - Accuracy: 78.67%\n",
      "Iteration 320 - Accuracy: 78.26%\n",
      "Iteration 330 - Accuracy: 78.52%\n",
      "Iteration 340 - Accuracy: 79.04%\n",
      "Iteration 350 - Accuracy: 79.31%\n",
      "Iteration 360 - Accuracy: 79.53%\n",
      "Iteration 370 - Accuracy: 79.73%\n",
      "Iteration 380 - Accuracy: 79.88%\n",
      "Iteration 390 - Accuracy: 80.00%\n",
      "Iteration 400 - Accuracy: 80.13%\n",
      "Iteration 410 - Accuracy: 80.23%\n",
      "Iteration 420 - Accuracy: 80.33%\n",
      "Iteration 430 - Accuracy: 80.44%\n",
      "Iteration 440 - Accuracy: 80.55%\n",
      "Iteration 450 - Accuracy: 80.66%\n",
      "Iteration 460 - Accuracy: 80.75%\n",
      "Iteration 470 - Accuracy: 80.85%\n",
      "Iteration 480 - Accuracy: 80.91%\n",
      "Iteration 490 - Accuracy: 80.96%\n",
      "Iteration 500 - Accuracy: 81.03%\n",
      "Iteration 510 - Accuracy: 81.13%\n",
      "Iteration 520 - Accuracy: 81.22%\n",
      "Iteration 530 - Accuracy: 81.30%\n",
      "Iteration 540 - Accuracy: 81.38%\n",
      "Iteration 550 - Accuracy: 81.45%\n",
      "Iteration 560 - Accuracy: 81.53%\n",
      "Iteration 570 - Accuracy: 81.60%\n",
      "Iteration 580 - Accuracy: 81.68%\n",
      "Iteration 590 - Accuracy: 81.76%\n",
      "Iteration 600 - Accuracy: 81.83%\n",
      "Iteration 610 - Accuracy: 81.89%\n",
      "Iteration 620 - Accuracy: 81.97%\n",
      "Iteration 630 - Accuracy: 82.05%\n",
      "Iteration 640 - Accuracy: 82.13%\n",
      "Iteration 650 - Accuracy: 82.21%\n",
      "Iteration 660 - Accuracy: 82.29%\n",
      "Iteration 670 - Accuracy: 82.39%\n",
      "Iteration 680 - Accuracy: 82.39%\n",
      "Iteration 690 - Accuracy: 82.40%\n",
      "Iteration 700 - Accuracy: 81.96%\n",
      "Iteration 710 - Accuracy: 82.23%\n",
      "Iteration 720 - Accuracy: 82.47%\n",
      "Iteration 730 - Accuracy: 82.60%\n",
      "Iteration 740 - Accuracy: 82.68%\n",
      "Iteration 750 - Accuracy: 82.75%\n",
      "Iteration 760 - Accuracy: 82.80%\n",
      "Iteration 770 - Accuracy: 82.85%\n",
      "Iteration 780 - Accuracy: 82.91%\n",
      "Iteration 790 - Accuracy: 82.96%\n",
      "Iteration 800 - Accuracy: 83.00%\n",
      "Iteration 810 - Accuracy: 83.05%\n",
      "Iteration 820 - Accuracy: 83.10%\n",
      "Iteration 830 - Accuracy: 83.15%\n",
      "Iteration 840 - Accuracy: 83.18%\n",
      "Iteration 850 - Accuracy: 83.23%\n",
      "Iteration 860 - Accuracy: 83.28%\n",
      "Iteration 870 - Accuracy: 83.32%\n",
      "Iteration 880 - Accuracy: 83.36%\n",
      "Iteration 890 - Accuracy: 83.40%\n",
      "Iteration 900 - Accuracy: 83.43%\n",
      "Iteration 910 - Accuracy: 83.47%\n"
     ]
    }
   ],
   "source": [
    "W1, b1, W2, b2, W3, b3 = gradient_descent(X_train, Y_train, 0.1, 1000)"
   ]
  },
  {
   "cell_type": "code",
   "execution_count": 11,
   "id": "68c884d6",
   "metadata": {},
   "outputs": [],
   "source": [
    "def make_predictions(X, W1, b1, W2, b2, W3, b3):\n",
    "    _, _, _, _, _, A3 = forward_prop(W1, b1, W2, b2, W3, b3, X)\n",
    "    predictions = get_predictions(A3)\n",
    "    return predictions\n",
    "\n",
    "\n",
    "def test_prediction(index, W1, b1, W2, b2, W3, b3):\n",
    "    current_image = X_train[:, index, None]\n",
    "    prediction = make_predictions(current_image, W1, b1, W2, b2, W3, b3)\n",
    "    label = Y_train[index]\n",
    "\n",
    "    pred_letter = index_to_char[prediction[0]]\n",
    "    label_letter = index_to_char[int(label)]\n",
    "\n",
    "    print(\"Prediction:\", pred_letter, f\"(class {prediction[0]})\")\n",
    "    print(\"Label     :\", label_letter, f\"(class {int(label)})\")\n",
    "\n",
    "    current_image = current_image.reshape((28, 28)) * 255\n",
    "    plt.gray()\n",
    "    plt.imshow(current_image, interpolation='nearest')\n",
    "    plt.title(f\"Predicted: {pred_letter}, Actual: {label_letter}\")\n",
    "    plt.axis('off')\n",
    "    plt.show()\n",
    "\n"
   ]
  },
  {
   "cell_type": "code",
   "execution_count": 12,
   "id": "adce4b85",
   "metadata": {},
   "outputs": [
    {
     "name": "stdout",
     "output_type": "stream",
     "text": [
      "\n",
      "🧪 Testing sample #0\n",
      "Prediction: q (class 80)\n",
      "Label     : q (class 80)\n"
     ]
    },
    {
     "data": {
      "image/png": "[encoded data removed]",
      "text/plain": [
       "<Figure size 640x480 with 1 Axes>"
      ]
     },
     "metadata": {},
     "output_type": "display_data"
    },
    {
     "name": "stdout",
     "output_type": "stream",
     "text": [
      "\n",
      "🧪 Testing sample #1\n",
      "Prediction: z (class 89)\n",
      "Label     : Z (class 57)\n"
     ]
    },
    {
     "data": {
      "image/png": "[encoded data removed]",
      "text/plain": [
       "<Figure size 640x480 with 1 Axes>"
      ]
     },
     "metadata": {},
     "output_type": "display_data"
    },
    {
     "name": "stdout",
     "output_type": "stream",
     "text": [
      "\n",
      "🧪 Testing sample #2\n",
      "Prediction: h (class 71)\n",
      "Label     : h (class 71)\n"
     ]
    },
    {
     "data": {
      "image/png": "[encoded data removed]",
      "text/plain": [
       "<Figure size 640x480 with 1 Axes>"
      ]
     },
     "metadata": {},
     "output_type": "display_data"
    },
    {
     "name": "stdout",
     "output_type": "stream",
     "text": [
      "\n",
      "🧪 Testing sample #3\n",
      "Prediction: < (class 27)\n",
      "Label     : < (class 27)\n"
     ]
    },
    {
     "data": {
      "image/png": "[encoded data removed]",
      "text/plain": [
       "<Figure size 640x480 with 1 Axes>"
      ]
     },
     "metadata": {},
     "output_type": "display_data"
    },
    {
     "name": "stdout",
     "output_type": "stream",
     "text": [
      "\n",
      "🧪 Testing sample #4\n",
      "Prediction: & (class 5)\n",
      "Label     : 8 (class 23)\n"
     ]
    },
    {
     "data": {
      "image/png": "[encoded data removed]",
      "text/plain": [
       "<Figure size 640x480 with 1 Axes>"
      ]
     },
     "metadata": {},
     "output_type": "display_data"
    },
    {
     "name": "stdout",
     "output_type": "stream",
     "text": [
      "\n",
      "🧪 Testing sample #5\n",
      "Prediction: ! (class 0)\n",
      "Label     : ! (class 0)\n"
     ]
    },
    {
     "data": {
      "image/png": "[encoded data removed]",
      "text/plain": [
       "<Figure size 640x480 with 1 Axes>"
      ]
     },
     "metadata": {},
     "output_type": "display_data"
    },
    {
     "name": "stdout",
     "output_type": "stream",
     "text": [
      "\n",
      "🧪 Testing sample #6\n",
      "Prediction: _ (class 62)\n",
      "Label     : _ (class 62)\n"
     ]
    },
    {
     "data": {
      "image/png": "[encoded data removed]",
      "text/plain": [
       "<Figure size 640x480 with 1 Axes>"
      ]
     },
     "metadata": {},
     "output_type": "display_data"
    },
    {
     "name": "stdout",
     "output_type": "stream",
     "text": [
      "\n",
      "🧪 Testing sample #7\n",
      "Prediction: m (class 76)\n",
      "Label     : m (class 76)\n"
     ]
    },
    {
     "data": {
      "image/png": "[encoded data removed]",
      "text/plain": [
       "<Figure size 640x480 with 1 Axes>"
      ]
     },
     "metadata": {},
     "output_type": "display_data"
    },
    {
     "name": "stdout",
     "output_type": "stream",
     "text": [
      "\n",
      "🧪 Testing sample #8\n",
      "Prediction: K (class 42)\n",
      "Label     : K (class 42)\n"
     ]
    },
    {
     "data": {
      "image/png": "[encoded data removed]",
      "text/plain": [
       "<Figure size 640x480 with 1 Axes>"
      ]
     },
     "metadata": {},
     "output_type": "display_data"
    },
    {
     "name": "stdout",
     "output_type": "stream",
     "text": [
      "\n",
      "🧪 Testing sample #9\n",
      "Prediction: u (class 84)\n",
      "Label     : u (class 84)\n"
     ]
    },
    {
     "data": {
      "image/png": "[encoded data removed]",
      "text/plain": [
       "<Figure size 640x480 with 1 Axes>"
      ]
     },
     "metadata": {},
     "output_type": "display_data"
    },
    {
     "name": "stdout",
     "output_type": "stream",
     "text": [
      "\n",
      "🧪 Testing sample #10\n",
      "Prediction: / (class 14)\n",
      "Label     : H (class 39)\n"
     ]
    },
    {
     "data": {
      "image/png": "[encoded data removed]",
      "text/plain": [
       "<Figure size 640x480 with 1 Axes>"
      ]
     },
     "metadata": {},
     "output_type": "display_data"
    },
    {
     "name": "stdout",
     "output_type": "stream",
     "text": [
      "\n",
      "🧪 Testing sample #11\n",
      "Prediction: y (class 88)\n",
      "Label     : y (class 88)\n"
     ]
    },
    {
     "data": {
      "image/png": "[encoded data removed]",
      "text/plain": [
       "<Figure size 640x480 with 1 Axes>"
      ]
     },
     "metadata": {},
     "output_type": "display_data"
    },
    {
     "name": "stdout",
     "output_type": "stream",
     "text": [
      "\n",
      "🧪 Testing sample #12\n",
      "Prediction: A (class 32)\n",
      "Label     : A (class 32)\n"
     ]
    },
    {
     "data": {
      "image/png": "[encoded data removed]",
      "text/plain": [
       "<Figure size 640x480 with 1 Axes>"
      ]
     },
     "metadata": {},
     "output_type": "display_data"
    },
    {
     "name": "stdout",
     "output_type": "stream",
     "text": [
      "\n",
      "🧪 Testing sample #13\n",
      "Prediction: c (class 66)\n",
      "Label     : c (class 66)\n"
     ]
    },
    {
     "data": {
      "image/png": "[encoded data removed]",
      "text/plain": [
       "<Figure size 640x480 with 1 Axes>"
      ]
     },
     "metadata": {},
     "output_type": "display_data"
    },
    {
     "name": "stdout",
     "output_type": "stream",
     "text": [
      "\n",
      "🧪 Testing sample #14\n",
      "Prediction: = (class 28)\n",
      "Label     : = (class 28)\n"
     ]
    },
    {
     "data": {
      "image/png": "[encoded data removed]",
      "text/plain": [
       "<Figure size 640x480 with 1 Axes>"
      ]
     },
     "metadata": {},
     "output_type": "display_data"
    },
    {
     "name": "stdout",
     "output_type": "stream",
     "text": [
      "\n",
      "🧪 Testing sample #15\n",
      "Prediction: 5 (class 20)\n",
      "Label     : 5 (class 20)\n"
     ]
    },
    {
     "data": {
      "image/png": "[encoded data removed]",
      "text/plain": [
       "<Figure size 640x480 with 1 Axes>"
      ]
     },
     "metadata": {},
     "output_type": "display_data"
    },
    {
     "name": "stdout",
     "output_type": "stream",
     "text": [
      "\n",
      "🧪 Testing sample #16\n",
      "Prediction: f (class 69)\n",
      "Label     : f (class 69)\n"
     ]
    },
    {
     "data": {
      "image/png": "[encoded data removed]",
      "text/plain": [
       "<Figure size 640x480 with 1 Axes>"
      ]
     },
     "metadata": {},
     "output_type": "display_data"
    },
    {
     "name": "stdout",
     "output_type": "stream",
     "text": [
      "\n",
      "🧪 Testing sample #17\n",
      "Prediction: ^ (class 61)\n",
      "Label     : ^ (class 61)\n"
     ]
    },
    {
     "data": {
      "image/png": "[encoded data removed]",
      "text/plain": [
       "<Figure size 640x480 with 1 Axes>"
      ]
     },
     "metadata": {},
     "output_type": "display_data"
    },
    {
     "name": "stdout",
     "output_type": "stream",
     "text": [
      "\n",
      "🧪 Testing sample #18\n",
      "Prediction: 3 (class 18)\n",
      "Label     : 3 (class 18)\n"
     ]
    },
    {
     "data": {
      "image/png": "[encoded data removed]",
      "text/plain": [
       "<Figure size 640x480 with 1 Axes>"
      ]
     },
     "metadata": {},
     "output_type": "display_data"
    },
    {
     "name": "stdout",
     "output_type": "stream",
     "text": [
      "\n",
      "🧪 Testing sample #19\n",
      "Prediction: / (class 14)\n",
      "Label     : / (class 14)\n"
     ]
    },
    {
     "data": {
      "image/png": "[encoded data removed]",
      "text/plain": [
       "<Figure size 640x480 with 1 Axes>"
      ]
     },
     "metadata": {},
     "output_type": "display_data"
    }
   ],
   "source": [
    "for i in range(20):\n",
    "    print(f\"\\n🧪 Testing sample #{i}\")\n",
    "    test_prediction(i, W1, b1, W2, b2, W3, b3)\n",
    "\n"
   ]
  },
  {
   "cell_type": "code",
   "execution_count": 12,
   "id": "5bf6af9e",
   "metadata": {},
   "outputs": [
    {
     "data": {
      "text/plain": [
       "0.852"
      ]
     },
     "execution_count": 12,
     "metadata": {},
     "output_type": "execute_result"
    }
   ],
   "source": [
    "dev_predictions = make_predictions(X_dev,W1, b1, W2, b2, W3, b3)\n",
    "get_accuracy(dev_predictions, Y_dev)\n"
   ]
  },
  {
   "cell_type": "code",
   "execution_count": 13,
   "id": "992bb0db",
   "metadata": {},
   "outputs": [],
   "source": [
    "test_data = pd.read_csv(\"tmnist.csv\").values"
   ]
  },
  {
   "cell_type": "code",
   "execution_count": 14,
   "id": "64ef6654",
   "metadata": {},
   "outputs": [],
   "source": [
    "Y_test = data[:, 0]\n",
    "X_test = data[:, 1:] / 255.\n",
    "X_test = X_test.T"
   ]
  },
  {
   "cell_type": "code",
   "execution_count": 15,
   "id": "69235ab6",
   "metadata": {},
   "outputs": [],
   "source": [
    "predictions = make_predictions(X_test,W1, b1, W2, b2, W3, b3)"
   ]
  },
  {
   "cell_type": "code",
   "execution_count": 16,
   "id": "46b8f472",
   "metadata": {},
   "outputs": [],
   "source": [
    "accuracy = np.sum(predictions == Y_test) / Y_test.size"
   ]
  },
  {
   "cell_type": "code",
   "execution_count": 17,
   "id": "5e31338e",
   "metadata": {},
   "outputs": [
    {
     "name": "stdout",
     "output_type": "stream",
     "text": [
      "0.8405833056663249\n"
     ]
    }
   ],
   "source": [
    "print(accuracy)"
   ]
  },
  {
   "cell_type": "code",
   "execution_count": null,
   "id": "2467c89d",
   "metadata": {},
   "outputs": [],
   "source": []
  },
  {
   "cell_type": "code",
   "execution_count": null,
   "id": "88467ab9",
   "metadata": {},
   "outputs": [],
   "source": []
  }
 ],
 "metadata": {
  "kernelspec": {
   "display_name": "Python 3 (ipykernel)",
   "language": "python",
   "name": "python3"
  },
  "language_info": {
   "codemirror_mode": {
    "name": "ipython",
    "version": 3
   },
   "file_extension": ".py",
   "mimetype": "text/x-python",
   "name": "python",
   "nbconvert_exporter": "python",
   "pygments_lexer": "ipython3",
   "version": "3.11.5"
  }
 },
 "nbformat": 4,
 "nbformat_minor": 5
}
